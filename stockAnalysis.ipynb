{
 "cells": [
  {
   "cell_type": "code",
   "execution_count": 1,
   "metadata": {
    "collapsed": true
   },
   "outputs": [],
   "source": [
    "import datetime"
   ]
  },
  {
   "cell_type": "code",
   "execution_count": 2,
   "metadata": {
    "collapsed": true
   },
   "outputs": [],
   "source": [
    "import numpy as np"
   ]
  },
  {
   "cell_type": "code",
   "execution_count": 3,
   "metadata": {
    "collapsed": true
   },
   "outputs": [],
   "source": [
    "import pandas as pd"
   ]
  },
  {
   "cell_type": "code",
   "execution_count": 4,
   "metadata": {
    "collapsed": true
   },
   "outputs": [],
   "source": [
    "%matplotlib inline\n",
    "import matplotlib.pyplot as plt"
   ]
  },
  {
   "cell_type": "code",
   "execution_count": 5,
   "metadata": {
    "collapsed": true
   },
   "outputs": [],
   "source": [
    "import tushare as ts"
   ]
  },
  {
   "cell_type": "code",
   "execution_count": 7,
   "metadata": {
    "collapsed": true
   },
   "outputs": [],
   "source": [
    "import seaborn as sns;"
   ]
  },
  {
   "cell_type": "code",
   "execution_count": 34,
   "metadata": {
    "collapsed": true
   },
   "outputs": [],
   "source": [
    "from scipy import stats"
   ]
  },
  {
   "cell_type": "code",
   "execution_count": 10,
   "metadata": {
    "collapsed": false
   },
   "outputs": [],
   "source": [
    "import pandas.io.data as web"
   ]
  },
  {
   "cell_type": "markdown",
   "metadata": {},
   "source": [
    "### 下载上证综指过去1年的收盘数据，以此来计算日收益率序列，对这个数据画出直方图，计算这组数据的各个描述性统计量"
   ]
  },
  {
   "cell_type": "code",
   "execution_count": 11,
   "metadata": {
    "collapsed": true
   },
   "outputs": [],
   "source": [
    "end = datetime.datetime.today()\n",
    "start = end - datetime.timedelta(days = 365)"
   ]
  },
  {
   "cell_type": "code",
   "execution_count": 12,
   "metadata": {
    "collapsed": true
   },
   "outputs": [],
   "source": [
    "data = web.DataReader(\"000001.SS\",'yahoo',start,end)"
   ]
  },
  {
   "cell_type": "code",
   "execution_count": 27,
   "metadata": {
    "collapsed": false
   },
   "outputs": [
    {
     "data": {
      "text/html": [
       "<div>\n",
       "<table border=\"1\" class=\"dataframe\">\n",
       "  <thead>\n",
       "    <tr style=\"text-align: right;\">\n",
       "      <th></th>\n",
       "      <th>Open</th>\n",
       "      <th>High</th>\n",
       "      <th>Low</th>\n",
       "      <th>Close</th>\n",
       "      <th>Volume</th>\n",
       "      <th>Adj Close</th>\n",
       "    </tr>\n",
       "    <tr>\n",
       "      <th>Date</th>\n",
       "      <th></th>\n",
       "      <th></th>\n",
       "      <th></th>\n",
       "      <th></th>\n",
       "      <th></th>\n",
       "      <th></th>\n",
       "    </tr>\n",
       "  </thead>\n",
       "  <tbody>\n",
       "    <tr>\n",
       "      <th>2015-03-18</th>\n",
       "      <td>3577.30</td>\n",
       "      <td>3577.30</td>\n",
       "      <td>3577.30</td>\n",
       "      <td>3577.30</td>\n",
       "      <td>0</td>\n",
       "      <td>3577.30</td>\n",
       "    </tr>\n",
       "    <tr>\n",
       "      <th>2015-03-19</th>\n",
       "      <td>3582.27</td>\n",
       "      <td>3582.27</td>\n",
       "      <td>3582.27</td>\n",
       "      <td>3582.27</td>\n",
       "      <td>0</td>\n",
       "      <td>3582.27</td>\n",
       "    </tr>\n",
       "    <tr>\n",
       "      <th>2015-03-20</th>\n",
       "      <td>3617.32</td>\n",
       "      <td>3617.32</td>\n",
       "      <td>3617.32</td>\n",
       "      <td>3617.32</td>\n",
       "      <td>0</td>\n",
       "      <td>3617.32</td>\n",
       "    </tr>\n",
       "    <tr>\n",
       "      <th>2015-03-23</th>\n",
       "      <td>3687.73</td>\n",
       "      <td>3687.73</td>\n",
       "      <td>3687.73</td>\n",
       "      <td>3687.73</td>\n",
       "      <td>0</td>\n",
       "      <td>3687.73</td>\n",
       "    </tr>\n",
       "    <tr>\n",
       "      <th>2015-03-24</th>\n",
       "      <td>3691.41</td>\n",
       "      <td>3691.41</td>\n",
       "      <td>3691.41</td>\n",
       "      <td>3691.41</td>\n",
       "      <td>0</td>\n",
       "      <td>3691.41</td>\n",
       "    </tr>\n",
       "  </tbody>\n",
       "</table>\n",
       "</div>"
      ],
      "text/plain": [
       "               Open     High      Low    Close  Volume  Adj Close\n",
       "Date                                                             \n",
       "2015-03-18  3577.30  3577.30  3577.30  3577.30       0    3577.30\n",
       "2015-03-19  3582.27  3582.27  3582.27  3582.27       0    3582.27\n",
       "2015-03-20  3617.32  3617.32  3617.32  3617.32       0    3617.32\n",
       "2015-03-23  3687.73  3687.73  3687.73  3687.73       0    3687.73\n",
       "2015-03-24  3691.41  3691.41  3691.41  3691.41       0    3691.41"
      ]
     },
     "execution_count": 27,
     "metadata": {},
     "output_type": "execute_result"
    }
   ],
   "source": [
    "data.head()"
   ]
  },
  {
   "cell_type": "code",
   "execution_count": 30,
   "metadata": {
    "collapsed": false
   },
   "outputs": [],
   "source": [
    "data2= ts.get_hist_data('000001',start='2015-03-24',end='2016-03-15')"
   ]
  },
  {
   "cell_type": "code",
   "execution_count": 31,
   "metadata": {
    "collapsed": false
   },
   "outputs": [
    {
     "data": {
      "text/html": [
       "<div>\n",
       "<table border=\"1\" class=\"dataframe\">\n",
       "  <thead>\n",
       "    <tr style=\"text-align: right;\">\n",
       "      <th></th>\n",
       "      <th>open</th>\n",
       "      <th>high</th>\n",
       "      <th>close</th>\n",
       "      <th>low</th>\n",
       "      <th>volume</th>\n",
       "      <th>price_change</th>\n",
       "      <th>p_change</th>\n",
       "      <th>ma5</th>\n",
       "      <th>ma10</th>\n",
       "      <th>ma20</th>\n",
       "      <th>v_ma5</th>\n",
       "      <th>v_ma10</th>\n",
       "      <th>v_ma20</th>\n",
       "      <th>turnover</th>\n",
       "    </tr>\n",
       "    <tr>\n",
       "      <th>date</th>\n",
       "      <th></th>\n",
       "      <th></th>\n",
       "      <th></th>\n",
       "      <th></th>\n",
       "      <th></th>\n",
       "      <th></th>\n",
       "      <th></th>\n",
       "      <th></th>\n",
       "      <th></th>\n",
       "      <th></th>\n",
       "      <th></th>\n",
       "      <th></th>\n",
       "      <th></th>\n",
       "      <th></th>\n",
       "    </tr>\n",
       "  </thead>\n",
       "  <tbody>\n",
       "    <tr>\n",
       "      <th>2016-03-15</th>\n",
       "      <td>10.28</td>\n",
       "      <td>10.36</td>\n",
       "      <td>10.32</td>\n",
       "      <td>10.16</td>\n",
       "      <td>417920.38</td>\n",
       "      <td>0.06</td>\n",
       "      <td>0.58</td>\n",
       "      <td>10.212</td>\n",
       "      <td>10.229</td>\n",
       "      <td>10.093</td>\n",
       "      <td>451347.26</td>\n",
       "      <td>611719.80</td>\n",
       "      <td>536509.67</td>\n",
       "      <td>0.35</td>\n",
       "    </tr>\n",
       "    <tr>\n",
       "      <th>2016-03-14</th>\n",
       "      <td>10.21</td>\n",
       "      <td>10.46</td>\n",
       "      <td>10.26</td>\n",
       "      <td>10.21</td>\n",
       "      <td>655158.25</td>\n",
       "      <td>0.10</td>\n",
       "      <td>0.98</td>\n",
       "      <td>10.204</td>\n",
       "      <td>10.167</td>\n",
       "      <td>10.077</td>\n",
       "      <td>496394.48</td>\n",
       "      <td>607718.84</td>\n",
       "      <td>537032.97</td>\n",
       "      <td>0.56</td>\n",
       "    </tr>\n",
       "    <tr>\n",
       "      <th>2016-03-11</th>\n",
       "      <td>10.10</td>\n",
       "      <td>10.22</td>\n",
       "      <td>10.16</td>\n",
       "      <td>10.04</td>\n",
       "      <td>383736.72</td>\n",
       "      <td>0.01</td>\n",
       "      <td>0.10</td>\n",
       "      <td>10.220</td>\n",
       "      <td>10.097</td>\n",
       "      <td>10.054</td>\n",
       "      <td>486633.43</td>\n",
       "      <td>598892.66</td>\n",
       "      <td>518200.03</td>\n",
       "      <td>0.33</td>\n",
       "    </tr>\n",
       "    <tr>\n",
       "      <th>2016-03-10</th>\n",
       "      <td>10.24</td>\n",
       "      <td>10.35</td>\n",
       "      <td>10.15</td>\n",
       "      <td>10.13</td>\n",
       "      <td>474020.31</td>\n",
       "      <td>-0.02</td>\n",
       "      <td>-0.20</td>\n",
       "      <td>10.268</td>\n",
       "      <td>10.060</td>\n",
       "      <td>10.042</td>\n",
       "      <td>686135.91</td>\n",
       "      <td>599734.43</td>\n",
       "      <td>512557.86</td>\n",
       "      <td>0.40</td>\n",
       "    </tr>\n",
       "    <tr>\n",
       "      <th>2016-03-09</th>\n",
       "      <td>10.14</td>\n",
       "      <td>10.22</td>\n",
       "      <td>10.17</td>\n",
       "      <td>10.04</td>\n",
       "      <td>325900.66</td>\n",
       "      <td>-0.11</td>\n",
       "      <td>-1.07</td>\n",
       "      <td>10.260</td>\n",
       "      <td>10.012</td>\n",
       "      <td>10.032</td>\n",
       "      <td>701949.72</td>\n",
       "      <td>614539.68</td>\n",
       "      <td>507511.82</td>\n",
       "      <td>0.28</td>\n",
       "    </tr>\n",
       "  </tbody>\n",
       "</table>\n",
       "</div>"
      ],
      "text/plain": [
       "             open   high  close    low     volume  price_change  p_change  \\\n",
       "date                                                                        \n",
       "2016-03-15  10.28  10.36  10.32  10.16  417920.38          0.06      0.58   \n",
       "2016-03-14  10.21  10.46  10.26  10.21  655158.25          0.10      0.98   \n",
       "2016-03-11  10.10  10.22  10.16  10.04  383736.72          0.01      0.10   \n",
       "2016-03-10  10.24  10.35  10.15  10.13  474020.31         -0.02     -0.20   \n",
       "2016-03-09  10.14  10.22  10.17  10.04  325900.66         -0.11     -1.07   \n",
       "\n",
       "               ma5    ma10    ma20      v_ma5     v_ma10     v_ma20  turnover  \n",
       "date                                                                           \n",
       "2016-03-15  10.212  10.229  10.093  451347.26  611719.80  536509.67      0.35  \n",
       "2016-03-14  10.204  10.167  10.077  496394.48  607718.84  537032.97      0.56  \n",
       "2016-03-11  10.220  10.097  10.054  486633.43  598892.66  518200.03      0.33  \n",
       "2016-03-10  10.268  10.060  10.042  686135.91  599734.43  512557.86      0.40  \n",
       "2016-03-09  10.260  10.012  10.032  701949.72  614539.68  507511.82      0.28  "
      ]
     },
     "execution_count": 31,
     "metadata": {},
     "output_type": "execute_result"
    }
   ],
   "source": [
    "data2.head()"
   ]
  },
  {
   "cell_type": "code",
   "execution_count": 15,
   "metadata": {
    "collapsed": true
   },
   "outputs": [],
   "source": [
    "close_price = data['Adj Close']"
   ]
  },
  {
   "cell_type": "code",
   "execution_count": 18,
   "metadata": {
    "collapsed": true
   },
   "outputs": [],
   "source": [
    "d_return=(close_price/close_price.shift(1)-1).dropna()"
   ]
  },
  {
   "cell_type": "code",
   "execution_count": 19,
   "metadata": {
    "collapsed": false
   },
   "outputs": [
    {
     "data": {
      "text/plain": [
       "<matplotlib.text.Text at 0x109356190>"
      ]
     },
     "execution_count": 19,
     "metadata": {},
     "output_type": "execute_result"
    },
    {
     "data": {
      "image/png": "[encoded data removed]",
      "text/plain": [
       "<matplotlib.figure.Figure at 0x109302250>"
      ]
     },
     "metadata": {},
     "output_type": "display_data"
    }
   ],
   "source": [
    "fig, ax = plt.subplots()\n",
    "\n",
    "d_return.hist(ax=ax)\n",
    "ax.set_xlabel('x')\n",
    "ax.set_ylabel('count')\n",
    "ax.set_title('daily return rate')"
   ]
  },
  {
   "cell_type": "markdown",
   "metadata": {},
   "source": [
    "接下来看它们的描述统计量"
   ]
  },
  {
   "cell_type": "code",
   "execution_count": 20,
   "metadata": {
    "collapsed": false
   },
   "outputs": [
    {
     "data": {
      "text/plain": [
       "-0.0005916793798600204"
      ]
     },
     "execution_count": 20,
     "metadata": {},
     "output_type": "execute_result"
    }
   ],
   "source": [
    "d_return.mean()"
   ]
  },
  {
   "cell_type": "code",
   "execution_count": 23,
   "metadata": {
    "collapsed": false
   },
   "outputs": [
    {
     "data": {
      "text/plain": [
       "(Timestamp('2015-10-12 00:00:00'), 0.076939707414225511)"
      ]
     },
     "execution_count": 23,
     "metadata": {},
     "output_type": "execute_result"
    }
   ],
   "source": [
    "d_return.argmax(),d_return.max()"
   ]
  },
  {
   "cell_type": "code",
   "execution_count": 24,
   "metadata": {
    "collapsed": false
   },
   "outputs": [
    {
     "data": {
      "text/plain": [
       "count    231.000000\n",
       "mean      -0.000592\n",
       "std        0.026741\n",
       "min       -0.084907\n",
       "25%       -0.012569\n",
       "50%        0.001989\n",
       "75%        0.017221\n",
       "max        0.076940\n",
       "Name: Adj Close, dtype: float64"
      ]
     },
     "execution_count": 24,
     "metadata": {},
     "output_type": "execute_result"
    }
   ],
   "source": [
    "d_return.describe()"
   ]
  },
  {
   "cell_type": "code",
   "execution_count": 35,
   "metadata": {
    "collapsed": false
   },
   "outputs": [
    {
     "data": {
      "text/plain": [
       "DescribeResult(nobs=231, minmax=(-0.084906521007828362, 0.076939707414225511), mean=-0.0005916793798600204, variance=0.00071506821978878224, skewness=-0.6639170356550235, kurtosis=1.1234576098276614)"
      ]
     },
     "execution_count": 35,
     "metadata": {},
     "output_type": "execute_result"
    }
   ],
   "source": [
    "stats.describe(d_return)"
   ]
  },
  {
   "cell_type": "markdown",
   "metadata": {},
   "source": [
    "##  概率密度函数估计"
   ]
  },
  {
   "cell_type": "markdown",
   "metadata": {},
   "source": [
    "假设是正态分布，估计出来的参数和概率密度函数如下："
   ]
  },
  {
   "cell_type": "code",
   "execution_count": 38,
   "metadata": {
    "collapsed": false
   },
   "outputs": [
    {
     "data": {
      "text/plain": [
       "(-0.0005916793798600204, 0.026682816312559345)"
      ]
     },
     "execution_count": 38,
     "metadata": {},
     "output_type": "execute_result"
    }
   ],
   "source": [
    "loc,scale = stats.norm.fit(d_return)\n",
    "(loc,scale)"
   ]
  },
  {
   "cell_type": "code",
   "execution_count": 39,
   "metadata": {
    "collapsed": true
   },
   "outputs": [],
   "source": [
    "pdf = stats.norm(loc=loc, scale=scale).pdf"
   ]
  },
  {
   "cell_type": "code",
   "execution_count": 42,
   "metadata": {
    "collapsed": false
   },
   "outputs": [
    {
     "data": {
      "image/png": "[encoded data removed]",
      "text/plain": [
       "<matplotlib.figure.Figure at 0x10bb1cd90>"
      ]
     },
     "metadata": {},
     "output_type": "display_data"
    }
   ],
   "source": [
    "fig,ax = plt.subplots()\n",
    "x = np.linspace(d_return.min(),d_return.max(),1000)\n",
    "ax.plot(x,pdf(x));"
   ]
  },
  {
   "cell_type": "code",
   "execution_count": 43,
   "metadata": {
    "collapsed": false
   },
   "outputs": [
    {
     "data": {
      "text/plain": [
       "0.50884563965628971"
      ]
     },
     "execution_count": 43,
     "metadata": {},
     "output_type": "execute_result"
    }
   ],
   "source": [
    "p = stats.norm(loc, scale=scale).cdf(0)\n",
    "p"
   ]
  },
  {
   "cell_type": "markdown",
   "metadata": {},
   "source": [
    "## 非参数方法"
   ]
  },
  {
   "cell_type": "code",
   "execution_count": 44,
   "metadata": {
    "collapsed": true
   },
   "outputs": [],
   "source": [
    "kde = stats.kde.gaussian_kde(d_return)"
   ]
  },
  {
   "cell_type": "code",
   "execution_count": 45,
   "metadata": {
    "collapsed": false
   },
   "outputs": [
    {
     "data": {
      "image/png": "[encoded data removed]",
      "text/plain": [
       "<matplotlib.figure.Figure at 0x10c319590>"
      ]
     },
     "metadata": {},
     "output_type": "display_data"
    }
   ],
   "source": [
    "fig, ax = plt.subplots()\n",
    "x = np.linspace(d_return.min(), d_return.max(), 1000)\n",
    "ax.plot(x, kde.pdf(x));"
   ]
  },
  {
   "cell_type": "code",
   "execution_count": 46,
   "metadata": {
    "collapsed": false
   },
   "outputs": [
    {
     "data": {
      "text/plain": [
       "0.47032621022160492"
      ]
     },
     "execution_count": 46,
     "metadata": {},
     "output_type": "execute_result"
    }
   ],
   "source": [
    "p = kde.integrate_box_1d(-np.inf, 0)\n",
    "p"
   ]
  },
  {
   "cell_type": "markdown",
   "metadata": {},
   "source": [
    "## 比较2支股票数据是否有差异（统计检验）"
   ]
  },
  {
   "cell_type": "code",
   "execution_count": 47,
   "metadata": {
    "collapsed": true
   },
   "outputs": [],
   "source": [
    "def daily_return(stock, start=(datetime.datetime.today() - datetime.timedelta(days=365)), end=datetime.datetime.today()):\n",
    "    data = web.DataReader(stock, 'yahoo', start, end)['Close']\n",
    "    daily_return = (data.diff() / data.shift(periods=1)).dropna()\n",
    "    return daily_return.values"
   ]
  },
  {
   "cell_type": "code",
   "execution_count": 55,
   "metadata": {
    "collapsed": true
   },
   "outputs": [],
   "source": [
    "apple = daily_return('AAPL')\n",
    "goog = daily_return('GOOG')"
   ]
  },
  {
   "cell_type": "code",
   "execution_count": 58,
   "metadata": {
    "collapsed": false
   },
   "outputs": [
    {
     "data": {
      "text/plain": [
       "(NormaltestResult(statistic=12.966790495807869, pvalue=0.0015286118424946012),\n",
       " NormaltestResult(statistic=185.63585100804312, pvalue=4.8942610710986921e-41))"
      ]
     },
     "execution_count": 58,
     "metadata": {},
     "output_type": "execute_result"
    }
   ],
   "source": [
    "stats.normaltest(apple),stats.normaltest(goog)  #判断是否正态分布"
   ]
  },
  {
   "cell_type": "markdown",
   "metadata": {},
   "source": [
    "QQPLOT图来直观检视"
   ]
  },
  {
   "cell_type": "code",
   "execution_count": 59,
   "metadata": {
    "collapsed": false
   },
   "outputs": [
    {
     "data": {
      "image/png": "[encoded data removed]",
      "text/plain": [
       "<matplotlib.figure.Figure at 0x10cec4850>"
      ]
     },
     "metadata": {},
     "output_type": "display_data"
    }
   ],
   "source": [
    "fig, axes = plt.subplots(1,2,figsize=(8, 4))\n",
    "stats.probplot(apple, plot=axes[0])\n",
    "stats.probplot(goog, plot=axes[1])\n",
    "axes[0].set_title('Apple Q-Q plot')\n",
    "axes[1].set_title('Google Q-Q plot')\n",
    "fig.tight_layout()"
   ]
  },
  {
   "cell_type": "markdown",
   "metadata": {},
   "source": [
    "利用 Q-Q plot，发现两者正态分布拟合不是那么好，存在偏离值.因此使用mann-whitney-u test 更好"
   ]
  },
  {
   "cell_type": "code",
   "execution_count": 56,
   "metadata": {
    "collapsed": false
   },
   "outputs": [
    {
     "data": {
      "image/png": "[encoded data removed]",
      "text/plain": [
       "<matplotlib.figure.Figure at 0x10c7f77d0>"
      ]
     },
     "metadata": {},
     "output_type": "display_data"
    }
   ],
   "source": [
    "fig, ax = plt.subplots(nrows=1,ncols=2,figsize=(12,4))\n",
    "\n",
    "sns.distplot(apple,ax=ax[0])\n",
    "ax[0].set_title('Apple')\n",
    "\n",
    "sns.distplot(goog,ax=ax[1])\n",
    "ax[1].set_title('Google');"
   ]
  },
  {
   "cell_type": "code",
   "execution_count": 54,
   "metadata": {
    "collapsed": false,
    "scrolled": true
   },
   "outputs": [
    {
     "data": {
      "text/plain": [
       "(27129.0, 0.0035745992665985314)"
      ]
     },
     "execution_count": 54,
     "metadata": {},
     "output_type": "execute_result"
    }
   ],
   "source": [
    "u, p = stats.mannwhitneyu(apple, goog) #采用mann-whitney u test\n",
    "u, p"
   ]
  },
  {
   "cell_type": "markdown",
   "metadata": {},
   "source": [
    "p值大于0.05，apple公司和google公司收益率无显著差异"
   ]
  }
 ],
 "metadata": {
  "kernelspec": {
   "display_name": "Python 2",
   "language": "python",
   "name": "python2"
  },
  "language_info": {
   "codemirror_mode": {
    "name": "ipython",
    "version": 2
   },
   "file_extension": ".py",
   "mimetype": "text/x-python",
   "name": "python",
   "nbconvert_exporter": "python",
   "pygments_lexer": "ipython2",
   "version": "2.7.11"
  }
 },
 "nbformat": 4,
 "nbformat_minor": 0
}
